{
 "cells": [
  {
   "cell_type": "markdown",
   "metadata": {},
   "source": [
    "# SVM、MFCCのハイパーパラメーターの値と音声ファイルの加工方法ごとの比較検証結果"
   ]
  },
  {
   "cell_type": "code",
   "execution_count": 4,
   "metadata": {},
   "outputs": [],
   "source": [
    "import numpy as np\n",
    "import os\n",
    "import librosa\n",
    "import librosa.display\n",
    "import matplotlib.pyplot as plt\n",
    "import pandas as pd"
   ]
  },
  {
   "cell_type": "code",
   "execution_count": 2,
   "metadata": {},
   "outputs": [],
   "source": [
    "from sklearn.model_selection import train_test_split\n",
    "from sklearn.preprocessing import StandardScaler\n",
    "from sklearn.svm import SVC\n",
    "from sklearn.metrics import accuracy_score"
   ]
  },
  {
   "cell_type": "code",
   "execution_count": 5,
   "metadata": {},
   "outputs": [],
   "source": [
    "# MFCCで特徴量抽出\n",
    "class create_mfcc():\n",
    "    def mfcc(self, audio_path, mfcc_param):\n",
    "        y, sr = librosa.load(audio_path, sr=4096)    # 約4kHzでリサンプリングして読み込む\n",
    "        mfccs = librosa.feature.mfcc(y, sr=sr, n_mfcc=mfcc_param)\n",
    "        ceps = mfccs.mean(axis=1)\n",
    "        #print(len(ceps))\n",
    "        return ceps\n",
    "    \n",
    "    def fit(self, path_list, mfcc_param):\n",
    "        self.x_test = []\n",
    "        self.y_test = []\n",
    "        count = 0\n",
    "        current_path = os.getcwd()\n",
    "        for data_path in path_list:\n",
    "            os.chdir(data_path)\n",
    "            for file in os.listdir():\n",
    "                filename, ext = os.path.splitext(file)\n",
    "                if ext == \".wav\":\n",
    "                    self.x_test.append(self.mfcc(file, mfcc_param))\n",
    "                    self.y_test.append(count)\n",
    "            count += 1\n",
    "            os.chdir(current_path)\n",
    "            "
   ]
  },
  {
   "cell_type": "code",
   "execution_count": 9,
   "metadata": {},
   "outputs": [],
   "source": [
    "class create_model():\n",
    "    def main(self, path_list, mfcc_param):\n",
    "        raspi_data_mfcc = create_mfcc()\n",
    "        raspi_data_mfcc.fit(path_list, mfcc_param)\n",
    "        x_test = np.array(raspi_data_mfcc.x_test)\n",
    "        y_test = np.array(raspi_data_mfcc.y_test)\n",
    "        x_train, x_val, y_train, y_val = train_test_split(x_test, y_test, test_size = 0.2, random_state = 1)\n",
    "        #標準化\n",
    "        sc = StandardScaler()\n",
    "        sc.fit(x_train)\n",
    "        x_train_std = sc.transform(x_train)\n",
    "        x_val_std = sc.transform(x_val)\n",
    "        #SVMのインスタンスを生成\n",
    "        self.model_linear = SVC(kernel='linear', random_state = 1)\n",
    "        self.model_poly = SVC(kernel = \"poly\", random_state = 1)\n",
    "        self.model_rbf = SVC(kernel = \"rbf\", random_state =1)\n",
    "        self.model_linear.fit(x_train_std, y_train)\n",
    "        self.model_poly.fit(x_train_std, y_train)\n",
    "        self.model_rbf.fit(x_train_std, y_train)\n",
    "        pred_linear_train = self.model_linear.predict(x_train_std)\n",
    "        pred_poly_train = self.model_poly.predict(x_train_std)\n",
    "        pred_rbf_train = self.model_rbf.predict(x_train_std)\n",
    "        accuracy_linear_train =accuracy_score(y_train, pred_linear_train)\n",
    "        accuracy_poly_train =accuracy_score(y_train, pred_poly_train)\n",
    "        accuracy_rbf_train =accuracy_score(y_train, pred_rbf_train)\n",
    "        print(\"train_result\")\n",
    "        print(\"Linear : \"+str(accuracy_linear_train))\n",
    "        print(\"Poly : \"+str(accuracy_poly_train))\n",
    "        print(\"RBF : \"+ str(accuracy_rbf_train))\n",
    "        pred_linear_val = self.model_linear.predict(x_val_std)\n",
    "        pred_poly_val = self.model_poly.predict(x_val_std)\n",
    "        pred_rbf_val = self.model_rbf.predict(x_val_std)\n",
    "        accuracy_linear_val = accuracy_score(y_val, pred_linear_val)\n",
    "        accuracy_poly_val = accuracy_score(y_val, pred_poly_val)\n",
    "        accuracy_rbf_val = accuracy_score(y_val, pred_rbf_val)\n",
    "\n",
    "        print(\"val_result\")\n",
    "        print(\"Linear : \"+str(accuracy_linear_val))\n",
    "        print(\"Poly : \"+str(accuracy_poly_val))\n",
    "        print(\"RBF : \"+ str(accuracy_rbf_val))\n",
    "        acclist = [[accuracy_linear_train, accuracy_poly_train, accuracy_rbf_train],[accuracy_linear_val, accuracy_poly_val, accuracy_rbf_val]]\n",
    "        return acclist"
   ]
  },
  {
   "cell_type": "markdown",
   "metadata": {},
   "source": [
    "MFCC特徴量を100、ラズパイで5秒間収録した音声"
   ]
  },
  {
   "cell_type": "code",
   "execution_count": 11,
   "metadata": {},
   "outputs": [
    {
     "name": "stdout",
     "output_type": "stream",
     "text": [
      "train_result\n",
      "Linear : 1.0\n",
      "Poly : 0.967741935483871\n",
      "RBF : 1.0\n",
      "val_result\n",
      "Linear : 0.875\n",
      "Poly : 0.25\n",
      "RBF : 0.75\n"
     ]
    }
   ],
   "source": [
    "path_list = [\"sound/raspi/a\", \"sound/raspi/k\", \"sound/raspi/endo\", \"sound/raspi/takahashi\"]\n",
    "param100_m = create_model()\n",
    "param100_acclist = param100_m.main(path_list, 100)"
   ]
  },
  {
   "cell_type": "markdown",
   "metadata": {},
   "source": [
    "MFCC特徴量を12、ラズパイで5秒間収録した音声"
   ]
  },
  {
   "cell_type": "code",
   "execution_count": 12,
   "metadata": {},
   "outputs": [
    {
     "name": "stdout",
     "output_type": "stream",
     "text": [
      "train_result\n",
      "Linear : 1.0\n",
      "Poly : 0.6451612903225806\n",
      "RBF : 1.0\n",
      "val_result\n",
      "Linear : 1.0\n",
      "Poly : 0.375\n",
      "RBF : 0.875\n"
     ]
    }
   ],
   "source": [
    "path_list = [\"sound/raspi/a\", \"sound/raspi/k\", \"sound/raspi/endo\", \"sound/raspi/takahashi\"]\n",
    "param12_m = create_model()\n",
    "param12_acclist = param12_m.main(path_list, 12)"
   ]
  },
  {
   "cell_type": "markdown",
   "metadata": {},
   "source": [
    "MFCC特徴量を24、ラズパイで5秒間収録した音声"
   ]
  },
  {
   "cell_type": "code",
   "execution_count": 13,
   "metadata": {},
   "outputs": [
    {
     "name": "stdout",
     "output_type": "stream",
     "text": [
      "train_result\n",
      "Linear : 1.0\n",
      "Poly : 0.7096774193548387\n",
      "RBF : 1.0\n",
      "val_result\n",
      "Linear : 0.75\n",
      "Poly : 0.25\n",
      "RBF : 0.75\n"
     ]
    }
   ],
   "source": [
    "path_list = [\"sound/raspi/a\", \"sound/raspi/k\", \"sound/raspi/endo\", \"sound/raspi/takahashi\"]\n",
    "param24_m = create_model()\n",
    "param24_acclist = param24_m.main(path_list, 24)"
   ]
  },
  {
   "cell_type": "markdown",
   "metadata": {},
   "source": [
    "MFCC特徴量を1000、ラズパイで5秒間収録した音声"
   ]
  },
  {
   "cell_type": "code",
   "execution_count": 19,
   "metadata": {},
   "outputs": [
    {
     "name": "stdout",
     "output_type": "stream",
     "text": [
      "train_result\n",
      "Linear : 1.0\n",
      "Poly : 0.967741935483871\n",
      "RBF : 1.0\n",
      "val_result\n",
      "Linear : 0.875\n",
      "Poly : 0.125\n",
      "RBF : 0.625\n"
     ]
    }
   ],
   "source": [
    "path_list = [\"sound/raspi/a\", \"sound/raspi/k\", \"sound/raspi/endo\", \"sound/raspi/takahashi\"]\n",
    "param1000_m = create_model()\n",
    "param1000_acclist = param1000_m.main(path_list, 1000)"
   ]
  },
  {
   "cell_type": "markdown",
   "metadata": {},
   "source": [
    "MFCC特徴量を500、ラズパイで5秒間収録した音声"
   ]
  },
  {
   "cell_type": "code",
   "execution_count": 20,
   "metadata": {},
   "outputs": [
    {
     "name": "stdout",
     "output_type": "stream",
     "text": [
      "train_result\n",
      "Linear : 1.0\n",
      "Poly : 0.967741935483871\n",
      "RBF : 1.0\n",
      "val_result\n",
      "Linear : 0.875\n",
      "Poly : 0.125\n",
      "RBF : 0.625\n"
     ]
    }
   ],
   "source": [
    "path_list = [\"sound/raspi/a\", \"sound/raspi/k\", \"sound/raspi/endo\", \"sound/raspi/takahashi\"]\n",
    "param500_m = create_model()\n",
    "param500_acclist = param1000_m.main(path_list, 500)"
   ]
  },
  {
   "cell_type": "markdown",
   "metadata": {},
   "source": [
    "MFCC特徴量を100、ラズパイで5秒間収録した音声からWavPadを使用してノイズを除去した5秒間の音声"
   ]
  },
  {
   "cell_type": "code",
   "execution_count": 15,
   "metadata": {},
   "outputs": [
    {
     "name": "stdout",
     "output_type": "stream",
     "text": [
      "train_result\n",
      "Linear : 1.0\n",
      "Poly : 1.0\n",
      "RBF : 1.0\n",
      "val_result\n",
      "Linear : 1.0\n",
      "Poly : 0.875\n",
      "RBF : 1.0\n"
     ]
    }
   ],
   "source": [
    "path_list = [\"sound/raspi_noise/a\", \"sound/raspi_noise/k\", \"sound/raspi_noise/endo\", \"sound/raspi_noise/takahashi\"]\n",
    "noise_param100_m = create_model()\n",
    "noise_param100_acclist = noise_param100_m.main(path_list, 100)"
   ]
  },
  {
   "cell_type": "markdown",
   "metadata": {},
   "source": [
    "MFCC特徴量を12、ラズパイで5秒間収録した音声からWavPadを使用してノイズを除去した5秒間の音声"
   ]
  },
  {
   "cell_type": "code",
   "execution_count": 17,
   "metadata": {},
   "outputs": [
    {
     "name": "stdout",
     "output_type": "stream",
     "text": [
      "train_result\n",
      "Linear : 1.0\n",
      "Poly : 0.90625\n",
      "RBF : 1.0\n",
      "val_result\n",
      "Linear : 0.75\n",
      "Poly : 0.25\n",
      "RBF : 0.875\n"
     ]
    }
   ],
   "source": [
    "path_list = [\"sound/raspi_noise/a\", \"sound/raspi_noise/k\", \"sound/raspi_noise/endo\", \"sound/raspi_noise/takahashi\"]\n",
    "noise_param12_m = create_model()\n",
    "noise_param12_acclist = noise_param12_m.main(path_list, 12)"
   ]
  },
  {
   "cell_type": "markdown",
   "metadata": {},
   "source": [
    "MFCC特徴量を24、ラズパイで5秒間収録した音声からWavPadを使用してノイズを除去した5秒間の音声"
   ]
  },
  {
   "cell_type": "code",
   "execution_count": 18,
   "metadata": {},
   "outputs": [
    {
     "name": "stdout",
     "output_type": "stream",
     "text": [
      "train_result\n",
      "Linear : 1.0\n",
      "Poly : 0.96875\n",
      "RBF : 1.0\n",
      "val_result\n",
      "Linear : 0.75\n",
      "Poly : 0.875\n",
      "RBF : 1.0\n"
     ]
    }
   ],
   "source": [
    "path_list = [\"sound/raspi_noise/a\", \"sound/raspi_noise/k\", \"sound/raspi_noise/endo\", \"sound/raspi_noise/takahashi\"]\n",
    "noise_param24_m = create_model()\n",
    "noise_param24_acclist = noise_param24_m.main(path_list, 24)"
   ]
  },
  {
   "cell_type": "markdown",
   "metadata": {},
   "source": [
    "MFCC特徴量を500、ラズパイで5秒間収録した音声からWavPadを使用してノイズを除去した5秒間の音声"
   ]
  },
  {
   "cell_type": "code",
   "execution_count": 21,
   "metadata": {},
   "outputs": [
    {
     "name": "stdout",
     "output_type": "stream",
     "text": [
      "train_result\n",
      "Linear : 1.0\n",
      "Poly : 1.0\n",
      "RBF : 1.0\n",
      "val_result\n",
      "Linear : 1.0\n",
      "Poly : 0.875\n",
      "RBF : 1.0\n"
     ]
    }
   ],
   "source": [
    "path_list = [\"sound/raspi_noise/a\", \"sound/raspi_noise/k\", \"sound/raspi_noise/endo\", \"sound/raspi_noise/takahashi\"]\n",
    "noise_param500_m = create_model()\n",
    "noise_param500_acclist = noise_param500_m.main(path_list, 500)"
   ]
  },
  {
   "cell_type": "markdown",
   "metadata": {},
   "source": [
    "MFCC特徴量を100、ラズパイで5秒間収録し、無音部分をカットした音声"
   ]
  },
  {
   "cell_type": "code",
   "execution_count": 22,
   "metadata": {},
   "outputs": [
    {
     "name": "stdout",
     "output_type": "stream",
     "text": [
      "train_result\n",
      "Linear : 1.0\n",
      "Poly : 1.0\n",
      "RBF : 1.0\n",
      "val_result\n",
      "Linear : 1.0\n",
      "Poly : 0.5\n",
      "RBF : 1.0\n"
     ]
    }
   ],
   "source": [
    "path_list = [\"sound/raspi_cut/a\", \"sound/raspi_cut/k\", \"sound/raspi_cut/endo\", \"sound/raspi_cut/takahashi\"]\n",
    "cut_param100_m = create_model()\n",
    "cut_param100_acclist = cut_param100_m.main(path_list, 100)"
   ]
  },
  {
   "cell_type": "markdown",
   "metadata": {},
   "source": [
    "MFCC特徴量を12、ラズパイで5秒間収録し、無音部分をカットした音声"
   ]
  },
  {
   "cell_type": "code",
   "execution_count": 23,
   "metadata": {},
   "outputs": [
    {
     "name": "stdout",
     "output_type": "stream",
     "text": [
      "train_result\n",
      "Linear : 0.96875\n",
      "Poly : 0.8125\n",
      "RBF : 0.96875\n",
      "val_result\n",
      "Linear : 0.75\n",
      "Poly : 0.375\n",
      "RBF : 0.75\n"
     ]
    }
   ],
   "source": [
    "path_list = [\"sound/raspi_cut/a\", \"sound/raspi_cut/k\", \"sound/raspi_cut/endo\", \"sound/raspi_cut/takahashi\"]\n",
    "cut_param12_m = create_model()\n",
    "cut_param12_acclist = cut_param12_m.main(path_list, 12)"
   ]
  },
  {
   "cell_type": "markdown",
   "metadata": {},
   "source": [
    "MFCC特徴量を24、ラズパイで5秒間収録し、無音部分をカットした音声"
   ]
  },
  {
   "cell_type": "code",
   "execution_count": 24,
   "metadata": {},
   "outputs": [
    {
     "name": "stdout",
     "output_type": "stream",
     "text": [
      "train_result\n",
      "Linear : 1.0\n",
      "Poly : 0.6875\n",
      "RBF : 1.0\n",
      "val_result\n",
      "Linear : 0.875\n",
      "Poly : 0.25\n",
      "RBF : 0.875\n"
     ]
    }
   ],
   "source": [
    "path_list = [\"sound/raspi_cut/a\", \"sound/raspi_cut/k\", \"sound/raspi_cut/endo\", \"sound/raspi_cut/takahashi\"]\n",
    "cut_param24_m = create_model()\n",
    "cut_param24_acclist = cut_param24_m.main(path_list, 24)"
   ]
  },
  {
   "cell_type": "markdown",
   "metadata": {},
   "source": [
    "MFCC特徴量を500、ラズパイで5秒間収録し、無音部分をカットした音声"
   ]
  },
  {
   "cell_type": "code",
   "execution_count": 25,
   "metadata": {},
   "outputs": [
    {
     "name": "stdout",
     "output_type": "stream",
     "text": [
      "train_result\n",
      "Linear : 1.0\n",
      "Poly : 0.96875\n",
      "RBF : 1.0\n",
      "val_result\n",
      "Linear : 1.0\n",
      "Poly : 0.5\n",
      "RBF : 1.0\n"
     ]
    }
   ],
   "source": [
    "path_list = [\"sound/raspi_cut/a\", \"sound/raspi_cut/k\", \"sound/raspi_cut/endo\", \"sound/raspi_cut/takahashi\"]\n",
    "cut_param500_m = create_model()\n",
    "cut_param500_acclist = cut_param500_m.main(path_list, 500)"
   ]
  },
  {
   "cell_type": "markdown",
   "metadata": {},
   "source": [
    "MFCC特徴量を1000、ラズパイで5秒間収録し、無音部分をカットした音声"
   ]
  },
  {
   "cell_type": "code",
   "execution_count": 26,
   "metadata": {},
   "outputs": [
    {
     "name": "stdout",
     "output_type": "stream",
     "text": [
      "train_result\n",
      "Linear : 1.0\n",
      "Poly : 0.96875\n",
      "RBF : 1.0\n",
      "val_result\n",
      "Linear : 1.0\n",
      "Poly : 0.5\n",
      "RBF : 1.0\n"
     ]
    }
   ],
   "source": [
    "path_list = [\"sound/raspi_cut/a\", \"sound/raspi_cut/k\", \"sound/raspi_cut/endo\", \"sound/raspi_cut/takahashi\"]\n",
    "cut_param1000_m = create_model()\n",
    "cut_param1000_acclist = cut_param1000_m.main(path_list, 1000)"
   ]
  },
  {
   "cell_type": "markdown",
   "metadata": {},
   "source": [
    "MFCC特徴量を100、ラズパイで5秒間収録し、WavPadでノイズ除去と無音部分をカットした音声"
   ]
  },
  {
   "cell_type": "code",
   "execution_count": 28,
   "metadata": {},
   "outputs": [
    {
     "name": "stdout",
     "output_type": "stream",
     "text": [
      "train_result\n",
      "Linear : 1.0\n",
      "Poly : 0.90625\n",
      "RBF : 1.0\n",
      "val_result\n",
      "Linear : 1.0\n",
      "Poly : 0.375\n",
      "RBF : 1.0\n"
     ]
    }
   ],
   "source": [
    "path_list = [\"sound/raspi_cut_e/a\", \"sound/raspi_cut_e/k\", \"sound/raspi_cut_e/endo\", \"sound/raspi_cut_e/takahashi\"]\n",
    "e_change_param100_m = create_model()\n",
    "e_change_param100_acclist = e_change_param100_m.main(path_list, 100)"
   ]
  },
  {
   "cell_type": "markdown",
   "metadata": {},
   "source": [
    "MFCC特徴量を12、ラズパイで5秒間収録し、WavPadでノイズ除去と無音部分をカットした音声"
   ]
  },
  {
   "cell_type": "code",
   "execution_count": 29,
   "metadata": {},
   "outputs": [
    {
     "name": "stdout",
     "output_type": "stream",
     "text": [
      "train_result\n",
      "Linear : 1.0\n",
      "Poly : 0.78125\n",
      "RBF : 1.0\n",
      "val_result\n",
      "Linear : 1.0\n",
      "Poly : 0.625\n",
      "RBF : 1.0\n"
     ]
    }
   ],
   "source": [
    "path_list = [\"sound/raspi_cut_e/a\", \"sound/raspi_cut_e/k\", \"sound/raspi_cut_e/endo\", \"sound/raspi_cut_e/takahashi\"]\n",
    "e_change_param12_m = create_model()\n",
    "e_change_param12_acclist = e_change_param12_m.main(path_list, 12)"
   ]
  },
  {
   "cell_type": "markdown",
   "metadata": {},
   "source": [
    "MFCC特徴量を24、ラズパイで5秒間収録し、WavPadでノイズ除去と無音部分をカットした音声"
   ]
  },
  {
   "cell_type": "code",
   "execution_count": 30,
   "metadata": {},
   "outputs": [
    {
     "name": "stdout",
     "output_type": "stream",
     "text": [
      "train_result\n",
      "Linear : 1.0\n",
      "Poly : 0.65625\n",
      "RBF : 1.0\n",
      "val_result\n",
      "Linear : 1.0\n",
      "Poly : 0.25\n",
      "RBF : 1.0\n"
     ]
    }
   ],
   "source": [
    "path_list = [\"sound/raspi_cut_e/a\", \"sound/raspi_cut_e/k\", \"sound/raspi_cut_e/endo\", \"sound/raspi_cut_e/takahashi\"]\n",
    "e_change_param24_m = create_model()\n",
    "e_change_param24_acclist = e_change_param24_m.main(path_list, 24)"
   ]
  },
  {
   "cell_type": "markdown",
   "metadata": {},
   "source": [
    "MFCC特徴量を500、ラズパイで5秒間収録し、WavPadでノイズ除去と無音部分をカットした音声"
   ]
  },
  {
   "cell_type": "code",
   "execution_count": 31,
   "metadata": {},
   "outputs": [
    {
     "name": "stdout",
     "output_type": "stream",
     "text": [
      "train_result\n",
      "Linear : 1.0\n",
      "Poly : 0.90625\n",
      "RBF : 1.0\n",
      "val_result\n",
      "Linear : 1.0\n",
      "Poly : 0.375\n",
      "RBF : 1.0\n"
     ]
    }
   ],
   "source": [
    "path_list = [\"sound/raspi_cut_e/a\", \"sound/raspi_cut_e/k\", \"sound/raspi_cut_e/endo\", \"sound/raspi_cut_e/takahashi\"]\n",
    "e_change_param500_m = create_model()\n",
    "e_change_param500_acclist = e_change_param500_m.main(path_list, 500)"
   ]
  },
  {
   "cell_type": "code",
   "execution_count": 34,
   "metadata": {},
   "outputs": [
    {
     "data": {
      "text/html": [
       "<div>\n",
       "<style scoped>\n",
       "    .dataframe tbody tr th:only-of-type {\n",
       "        vertical-align: middle;\n",
       "    }\n",
       "\n",
       "    .dataframe tbody tr th {\n",
       "        vertical-align: top;\n",
       "    }\n",
       "\n",
       "    .dataframe thead th {\n",
       "        text-align: right;\n",
       "    }\n",
       "</style>\n",
       "<table border=\"1\" class=\"dataframe\">\n",
       "  <thead>\n",
       "    <tr style=\"text-align: right;\">\n",
       "      <th></th>\n",
       "      <th>p12base</th>\n",
       "      <th>p24base</th>\n",
       "      <th>p100base</th>\n",
       "      <th>p500base</th>\n",
       "      <th>p12noise</th>\n",
       "      <th>p24noise</th>\n",
       "      <th>p100noise</th>\n",
       "      <th>p500noise</th>\n",
       "      <th>p12cut</th>\n",
       "      <th>p24cut</th>\n",
       "      <th>p100cut</th>\n",
       "      <th>p500cut</th>\n",
       "      <th>p12data</th>\n",
       "      <th>p24data</th>\n",
       "      <th>p100data</th>\n",
       "      <th>p500data</th>\n",
       "    </tr>\n",
       "  </thead>\n",
       "  <tbody>\n",
       "    <tr>\n",
       "      <th>Linear</th>\n",
       "      <td>1.000</td>\n",
       "      <td>0.75</td>\n",
       "      <td>1.000</td>\n",
       "      <td>0.875</td>\n",
       "      <td>0.750</td>\n",
       "      <td>0.750</td>\n",
       "      <td>1.000</td>\n",
       "      <td>1.000</td>\n",
       "      <td>0.750</td>\n",
       "      <td>0.875</td>\n",
       "      <td>1.0</td>\n",
       "      <td>1.0</td>\n",
       "      <td>1.000</td>\n",
       "      <td>1.00</td>\n",
       "      <td>1.000</td>\n",
       "      <td>1.000</td>\n",
       "    </tr>\n",
       "    <tr>\n",
       "      <th>Poly</th>\n",
       "      <td>0.375</td>\n",
       "      <td>0.25</td>\n",
       "      <td>0.875</td>\n",
       "      <td>0.125</td>\n",
       "      <td>0.250</td>\n",
       "      <td>0.875</td>\n",
       "      <td>0.875</td>\n",
       "      <td>0.875</td>\n",
       "      <td>0.375</td>\n",
       "      <td>0.250</td>\n",
       "      <td>0.5</td>\n",
       "      <td>0.5</td>\n",
       "      <td>0.625</td>\n",
       "      <td>0.25</td>\n",
       "      <td>0.375</td>\n",
       "      <td>0.375</td>\n",
       "    </tr>\n",
       "    <tr>\n",
       "      <th>RBF</th>\n",
       "      <td>0.875</td>\n",
       "      <td>0.75</td>\n",
       "      <td>1.000</td>\n",
       "      <td>0.625</td>\n",
       "      <td>0.875</td>\n",
       "      <td>1.000</td>\n",
       "      <td>1.000</td>\n",
       "      <td>1.000</td>\n",
       "      <td>0.750</td>\n",
       "      <td>0.875</td>\n",
       "      <td>1.0</td>\n",
       "      <td>1.0</td>\n",
       "      <td>1.000</td>\n",
       "      <td>1.00</td>\n",
       "      <td>1.000</td>\n",
       "      <td>1.000</td>\n",
       "    </tr>\n",
       "  </tbody>\n",
       "</table>\n",
       "</div>"
      ],
      "text/plain": [
       "        p12base  p24base  p100base  p500base  p12noise  p24noise  p100noise  \\\n",
       "Linear    1.000     0.75     1.000     0.875     0.750     0.750      1.000   \n",
       "Poly      0.375     0.25     0.875     0.125     0.250     0.875      0.875   \n",
       "RBF       0.875     0.75     1.000     0.625     0.875     1.000      1.000   \n",
       "\n",
       "        p500noise  p12cut  p24cut  p100cut  p500cut  p12data  p24data  \\\n",
       "Linear      1.000   0.750   0.875      1.0      1.0    1.000     1.00   \n",
       "Poly        0.875   0.375   0.250      0.5      0.5    0.625     0.25   \n",
       "RBF         1.000   0.750   0.875      1.0      1.0    1.000     1.00   \n",
       "\n",
       "        p100data  p500data  \n",
       "Linear     1.000     1.000  \n",
       "Poly       0.375     0.375  \n",
       "RBF        1.000     1.000  "
      ]
     },
     "execution_count": 34,
     "metadata": {},
     "output_type": "execute_result"
    }
   ],
   "source": [
    "dict1=dict(p12base=param12_acclist[1], p24base=param24_acclist[1], p100base=param100_acclist[1], p500base=param500_acclist[1],\n",
    "          p12noise=noise_param12_acclist[1], p24noise=noise_param24_acclist[1],p100noise=noise_param100_acclist[1],p500noise=noise_param500_acclist[1],\n",
    "          p12cut=cut_param12_acclist[1],p24cut=cut_param24_acclist[1],p100cut=cut_param100_acclist[1],p500cut=cut_param500_acclist[1],\n",
    "          p12data=e_change_param12_acclist[1],p24data=e_change_param24_acclist[1],p100data=e_change_param100_acclist[1],p500data=e_change_param500_acclist[1])\n",
    "index1 = [\"Linear\", \"Poly\", \"RBF\"]\n",
    "pd.DataFrame(data=dict1, index=index1)"
   ]
  },
  {
   "cell_type": "markdown",
   "metadata": {},
   "source": [
    "【考察】\n",
    "MFCC特徴量は100、SVMのカーネルはRBF、音声は加工しないまたはノイズ除去のみが良さそうであった<br>\n",
    "無音音声をカットすることで長さが揃わなくなったことが悪影響を及ぼしている可能性も高いと推察される<br>\n",
    "収録した音声では精度が出ても、実際にRaspberryPi上で検証を行うと誰が声をかけても同じ人と認識してしまうため、根本的に見直す必要がありそうだ"
   ]
  },
  {
   "cell_type": "code",
   "execution_count": null,
   "metadata": {},
   "outputs": [],
   "source": []
  }
 ],
 "metadata": {
  "kernelspec": {
   "display_name": "Python 3",
   "language": "python",
   "name": "python3"
  },
  "language_info": {
   "codemirror_mode": {
    "name": "ipython",
    "version": 3
   },
   "file_extension": ".py",
   "mimetype": "text/x-python",
   "name": "python",
   "nbconvert_exporter": "python",
   "pygments_lexer": "ipython3",
   "version": "3.8.5"
  },
  "toc": {
   "base_numbering": 1,
   "nav_menu": {},
   "number_sections": true,
   "sideBar": true,
   "skip_h1_title": false,
   "title_cell": "Table of Contents",
   "title_sidebar": "Contents",
   "toc_cell": false,
   "toc_position": {},
   "toc_section_display": true,
   "toc_window_display": false
  }
 },
 "nbformat": 4,
 "nbformat_minor": 4
}
