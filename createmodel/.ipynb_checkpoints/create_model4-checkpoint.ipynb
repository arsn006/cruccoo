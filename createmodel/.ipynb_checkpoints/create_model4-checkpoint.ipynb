{
 "cells": [
  {
   "cell_type": "markdown",
   "metadata": {},
   "source": [
    "GMMモデル"
   ]
  },
  {
   "cell_type": "code",
   "execution_count": 2,
   "metadata": {},
   "outputs": [],
   "source": [
    "import numpy as np\n",
    "import os\n",
    "import librosa\n",
    "import librosa.display\n",
    "import matplotlib.pyplot as plt"
   ]
  },
  {
   "cell_type": "code",
   "execution_count": 1,
   "metadata": {},
   "outputs": [],
   "source": [
    "from sklearn.model_selection import train_test_split\n",
    "from sklearn.preprocessing import StandardScaler\n",
    "from sklearn.svm import SVC\n",
    "from sklearn.metrics import accuracy_score\n",
    "from sklearn.mixture import GaussianMixture"
   ]
  },
  {
   "cell_type": "code",
   "execution_count": 4,
   "metadata": {},
   "outputs": [],
   "source": [
    "# MFCCで特徴量抽出\n",
    "class create_mfcc():\n",
    "    def mfcc(self, audio_path, mfcc_param):\n",
    "        y, sr = librosa.load(audio_path, sr=4096)    # 約4kHzでリサンプリングして読み込む\n",
    "        mfccs = librosa.feature.mfcc(y, sr=sr, n_mfcc=mfcc_param)\n",
    "        ceps = mfccs.mean(axis=1)\n",
    "        #print(len(ceps))\n",
    "        return ceps\n",
    "    \n",
    "    def fit(self, path_list, mfcc_param):\n",
    "        self.x_test = []\n",
    "        self.y_test = []\n",
    "        count = 0\n",
    "        current_path = os.getcwd()\n",
    "        for data_path in path_list:\n",
    "            os.chdir(data_path)\n",
    "            for file in os.listdir():\n",
    "                filename, ext = os.path.splitext(file)\n",
    "                if ext == \".wav\":\n",
    "                    self.x_test.append(self.mfcc(file, mfcc_param))\n",
    "                    self.y_test.append(count)\n",
    "            count += 1\n",
    "            os.chdir(current_path)\n",
    "            \n",
    "        "
   ]
  },
  {
   "cell_type": "code",
   "execution_count": 6,
   "metadata": {},
   "outputs": [],
   "source": [
    "\n",
    "path_list = [\"sound/train_data_noise_pull/a_0204\", \"sound/train_data_noise_pull/k\", \"sound/train_data_noise_pull/e\", \"sound/train_data_noise_pull/t\"]\n",
    "raspi_data_mfcc = create_mfcc()\n",
    "raspi_data_mfcc.fit(path_list, 100)"
   ]
  },
  {
   "cell_type": "code",
   "execution_count": 7,
   "metadata": {},
   "outputs": [],
   "source": [
    "x_test = np.array(raspi_data_mfcc.x_test)\n",
    "y_test = np.array(raspi_data_mfcc.y_test)"
   ]
  },
  {
   "cell_type": "code",
   "execution_count": 8,
   "metadata": {},
   "outputs": [],
   "source": [
    "# ノイズのMFCC\n",
    "noise_y, noise_sr = librosa.load(\"sound/train_data_noise_pull/noise.wav\", sr=4096)    # 約4kHzでリサンプリングして読み込む\n",
    "noise_mfccs = librosa.feature.mfcc(noise_y, sr=noise_sr, n_mfcc=100)\n",
    "noise_ceps = noise_mfccs.mean(axis=1)"
   ]
  },
  {
   "cell_type": "code",
   "execution_count": 21,
   "metadata": {},
   "outputs": [],
   "source": [
    "x_test = x_test - noise_ceps"
   ]
  },
  {
   "cell_type": "code",
   "execution_count": 22,
   "metadata": {},
   "outputs": [],
   "source": [
    "x_train, x_val, y_train, y_val = train_test_split(x_test, y_test, test_size = 0.2, random_state = 3)"
   ]
  },
  {
   "cell_type": "code",
   "execution_count": 23,
   "metadata": {},
   "outputs": [],
   "source": [
    "#標準化\n",
    "sc = StandardScaler()\n",
    "sc.fit(x_train)\n",
    "x_train_std = sc.transform(x_train)\n",
    "x_val_std = sc.transform(x_val)"
   ]
  },
  {
   "cell_type": "code",
   "execution_count": 24,
   "metadata": {},
   "outputs": [
    {
     "data": {
      "text/plain": [
       "(24, 100)"
      ]
     },
     "execution_count": 24,
     "metadata": {},
     "output_type": "execute_result"
    }
   ],
   "source": [
    "x_train.shape"
   ]
  },
  {
   "cell_type": "code",
   "execution_count": 25,
   "metadata": {},
   "outputs": [
    {
     "data": {
      "text/plain": [
       "SVC(random_state=1)"
      ]
     },
     "execution_count": 25,
     "metadata": {},
     "output_type": "execute_result"
    }
   ],
   "source": [
    "#SVMのインスタンスを生成\n",
    "model_linear = SVC(kernel='linear', random_state = 1)\n",
    "model_poly = SVC(kernel = \"poly\", random_state = 1)\n",
    "model_rbf = SVC(kernel = \"rbf\", random_state =1)\n",
    "model_linear.fit(x_train_std, y_train)\n",
    "model_poly.fit(x_train_std, y_train)\n",
    "model_rbf.fit(x_train_std, y_train)"
   ]
  },
  {
   "cell_type": "code",
   "execution_count": 26,
   "metadata": {},
   "outputs": [
    {
     "name": "stdout",
     "output_type": "stream",
     "text": [
      "train_result\n",
      "Linear : 1.0\n",
      "Poly : 1.0\n",
      "RBF : 1.0\n"
     ]
    }
   ],
   "source": [
    "pred_linear_train = model_linear.predict(x_train_std)\n",
    "pred_poly_train = model_poly.predict(x_train_std)\n",
    "pred_rbf_train = model_rbf.predict(x_train_std)\n",
    "accuracy_linear_train =accuracy_score(y_train, pred_linear_train)\n",
    "accuracy_poly_train =accuracy_score(y_train, pred_poly_train)\n",
    "accuracy_rbf_train =accuracy_score(y_train, pred_rbf_train)\n",
    "print(\"train_result\")\n",
    "print(\"Linear : \"+str(accuracy_linear_train))\n",
    "print(\"Poly : \"+str(accuracy_poly_train))\n",
    "print(\"RBF : \"+ str(accuracy_rbf_train))"
   ]
  },
  {
   "cell_type": "code",
   "execution_count": 27,
   "metadata": {},
   "outputs": [
    {
     "name": "stdout",
     "output_type": "stream",
     "text": [
      "val_result\n",
      "Linear : 1.0\n",
      "Poly : 1.0\n",
      "RBF : 1.0\n"
     ]
    }
   ],
   "source": [
    "pred_linear_val = model_linear.predict(x_val_std)\n",
    "pred_poly_val = model_poly.predict(x_val_std)\n",
    "pred_rbf_val = model_rbf.predict(x_val_std)\n",
    "accuracy_linear_val = accuracy_score(y_val, pred_linear_val)\n",
    "accuracy_poly_val = accuracy_score(y_val, pred_poly_val)\n",
    "accuracy_rbf_val = accuracy_score(y_val, pred_rbf_val)\n",
    "\n",
    "print(\"val_result\")\n",
    "print(\"Linear : \"+str(accuracy_linear_val))\n",
    "print(\"Poly : \"+str(accuracy_poly_val))\n",
    "print(\"RBF : \"+ str(accuracy_rbf_val))"
   ]
  },
  {
   "cell_type": "code",
   "execution_count": 28,
   "metadata": {},
   "outputs": [
    {
     "data": {
      "text/plain": [
       "array([1, 0, 2, 2, 1, 1])"
      ]
     },
     "execution_count": 28,
     "metadata": {},
     "output_type": "execute_result"
    }
   ],
   "source": [
    "y_val"
   ]
  },
  {
   "cell_type": "code",
   "execution_count": 29,
   "metadata": {},
   "outputs": [
    {
     "data": {
      "text/plain": [
       "array([1, 0, 2, 2, 1, 1])"
      ]
     },
     "execution_count": 29,
     "metadata": {},
     "output_type": "execute_result"
    }
   ],
   "source": [
    "pred_rbf_val"
   ]
  },
  {
   "cell_type": "code",
   "execution_count": null,
   "metadata": {},
   "outputs": [],
   "source": [
    "gm = GaussianMixture(n_components=2, random_state=0).fit(x_val_std)"
   ]
  },
  {
   "cell_type": "code",
   "execution_count": 30,
   "metadata": {},
   "outputs": [],
   "source": [
    "import pickle\n",
    "# モデルを保存する\n",
    "save_model = \"model_RBF.sav\"\n",
    "pickle.dump(model_rbf, open(save_model, 'wb'))"
   ]
  },
  {
   "cell_type": "code",
   "execution_count": 31,
   "metadata": {},
   "outputs": [],
   "source": [
    "# モデルを保存する\n",
    "s_model = \"s_scaler.sav\"\n",
    "pickle.dump(sc, open(s_model, 'wb'))"
   ]
  },
  {
   "cell_type": "code",
   "execution_count": 47,
   "metadata": {},
   "outputs": [],
   "source": [
    "import pickle\n",
    "# モデルを保存する\n",
    "save_model = \"add_model_RBF.sav\"\n",
    "pickle.dump(model_rbf, open(save_model, 'wb'))"
   ]
  },
  {
   "cell_type": "code",
   "execution_count": 48,
   "metadata": {},
   "outputs": [],
   "source": [
    "# モデルを保存する\n",
    "s_model = \"add_s_scaler.sav\"\n",
    "pickle.dump(sc, open(s_model, 'wb'))"
   ]
  },
  {
   "cell_type": "code",
   "execution_count": 119,
   "metadata": {},
   "outputs": [],
   "source": [
    "import tensorflow as tf\n",
    "from sklearn.preprocessing import OneHotEncoder\n",
    "from tensorflow.keras import backend as K\n",
    "from keras import models\n",
    "from keras import layers\n",
    "from keras.optimizers import Adam"
   ]
  },
  {
   "cell_type": "code",
   "execution_count": 101,
   "metadata": {},
   "outputs": [],
   "source": [
    "enc = OneHotEncoder(handle_unknown='ignore', sparse=False)\n",
    "y_one_hot = enc.fit_transform(y_test[:, np.newaxis])"
   ]
  },
  {
   "cell_type": "code",
   "execution_count": 124,
   "metadata": {},
   "outputs": [],
   "source": [
    "x_train, x_val, y_train, y_val = train_test_split(x_test, y_one_hot, test_size = 0.2, random_state = 1)"
   ]
  },
  {
   "cell_type": "code",
   "execution_count": 126,
   "metadata": {},
   "outputs": [],
   "source": [
    "#標準化\n",
    "sc = StandardScaler()\n",
    "sc.fit(x_train)\n",
    "x_train_std = sc.transform(x_train)\n",
    "x_val_std = sc.transform(x_val)"
   ]
  },
  {
   "cell_type": "code",
   "execution_count": 127,
   "metadata": {},
   "outputs": [],
   "source": [
    "K.clear_session()"
   ]
  },
  {
   "cell_type": "code",
   "execution_count": 128,
   "metadata": {},
   "outputs": [
    {
     "data": {
      "text/plain": [
       "(32, 4)"
      ]
     },
     "execution_count": 128,
     "metadata": {},
     "output_type": "execute_result"
    }
   ],
   "source": [
    "y_train.shape"
   ]
  },
  {
   "cell_type": "code",
   "execution_count": 132,
   "metadata": {},
   "outputs": [],
   "source": [
    "\n",
    "network = models.Sequential()\n",
    "network.add(layers.Dense(68, activation='relu', input_shape=(100,)))\n",
    "network.add(layers.Dense(68, activation='relu'))\n",
    "network.add(layers.Dense(68, activation='relu'))\n",
    "network.add(layers.Dense(4, activation='softmax'))"
   ]
  },
  {
   "cell_type": "code",
   "execution_count": 133,
   "metadata": {},
   "outputs": [],
   "source": [
    "network.compile(optimizer='Adam',\n",
    "                loss='binary_crossentropy',\n",
    "                metrics=['accuracy'])"
   ]
  },
  {
   "cell_type": "code",
   "execution_count": 134,
   "metadata": {},
   "outputs": [
    {
     "name": "stdout",
     "output_type": "stream",
     "text": [
      "Epoch 1/100\n",
      "32/32 [==============================] - 0s 9ms/step - loss: 3.4765 - acc: 0.5781\n",
      "Epoch 2/100\n",
      "32/32 [==============================] - 0s 370us/step - loss: 1.8466 - acc: 0.6250\n",
      "Epoch 3/100\n",
      "32/32 [==============================] - 0s 328us/step - loss: 0.8486 - acc: 0.7422\n",
      "Epoch 4/100\n",
      "32/32 [==============================] - 0s 322us/step - loss: 0.5202 - acc: 0.7969\n",
      "Epoch 5/100\n",
      "32/32 [==============================] - 0s 324us/step - loss: 0.4405 - acc: 0.8594\n",
      "Epoch 6/100\n",
      "32/32 [==============================] - 0s 379us/step - loss: 0.2301 - acc: 0.8984\n",
      "Epoch 7/100\n",
      "32/32 [==============================] - 0s 364us/step - loss: 0.1288 - acc: 0.9297\n",
      "Epoch 8/100\n",
      "32/32 [==============================] - 0s 328us/step - loss: 0.0876 - acc: 0.9531\n",
      "Epoch 9/100\n",
      "32/32 [==============================] - 0s 363us/step - loss: 0.0627 - acc: 0.9844\n",
      "Epoch 10/100\n",
      "32/32 [==============================] - 0s 352us/step - loss: 0.0711 - acc: 0.9687\n",
      "Epoch 11/100\n",
      "32/32 [==============================] - 0s 344us/step - loss: 0.1271 - acc: 0.9531\n",
      "Epoch 12/100\n",
      "32/32 [==============================] - 0s 341us/step - loss: 0.0680 - acc: 0.9844\n",
      "Epoch 13/100\n",
      "32/32 [==============================] - 0s 351us/step - loss: 0.0392 - acc: 0.9844\n",
      "Epoch 14/100\n",
      "32/32 [==============================] - 0s 379us/step - loss: 0.0581 - acc: 0.9688\n",
      "Epoch 15/100\n",
      "32/32 [==============================] - 0s 317us/step - loss: 0.0373 - acc: 1.0000\n",
      "Epoch 16/100\n",
      "32/32 [==============================] - 0s 322us/step - loss: 0.0276 - acc: 1.0000\n",
      "Epoch 17/100\n",
      "32/32 [==============================] - 0s 354us/step - loss: 0.0344 - acc: 0.9844\n",
      "Epoch 18/100\n",
      "32/32 [==============================] - 0s 299us/step - loss: 0.0209 - acc: 1.0000\n",
      "Epoch 19/100\n",
      "32/32 [==============================] - 0s 327us/step - loss: 0.0177 - acc: 1.0000\n",
      "Epoch 20/100\n",
      "32/32 [==============================] - 0s 356us/step - loss: 0.0126 - acc: 1.0000\n",
      "Epoch 21/100\n",
      "32/32 [==============================] - 0s 303us/step - loss: 0.0110 - acc: 1.0000\n",
      "Epoch 22/100\n",
      "32/32 [==============================] - 0s 330us/step - loss: 0.0083 - acc: 1.0000\n",
      "Epoch 23/100\n",
      "32/32 [==============================] - 0s 365us/step - loss: 0.0077 - acc: 1.0000\n",
      "Epoch 24/100\n",
      "32/32 [==============================] - 0s 289us/step - loss: 0.0072 - acc: 1.0000\n",
      "Epoch 25/100\n",
      "32/32 [==============================] - 0s 314us/step - loss: 0.0068 - acc: 1.0000\n",
      "Epoch 26/100\n",
      "32/32 [==============================] - 0s 336us/step - loss: 0.0064 - acc: 1.0000\n",
      "Epoch 27/100\n",
      "32/32 [==============================] - 0s 302us/step - loss: 0.0059 - acc: 1.0000\n",
      "Epoch 28/100\n",
      "32/32 [==============================] - 0s 306us/step - loss: 0.0057 - acc: 1.0000\n",
      "Epoch 29/100\n",
      "32/32 [==============================] - 0s 326us/step - loss: 0.0054 - acc: 1.0000\n",
      "Epoch 30/100\n",
      "32/32 [==============================] - 0s 295us/step - loss: 0.0051 - acc: 1.0000\n",
      "Epoch 31/100\n",
      "32/32 [==============================] - 0s 316us/step - loss: 0.0048 - acc: 1.0000\n",
      "Epoch 32/100\n",
      "32/32 [==============================] - 0s 321us/step - loss: 0.0047 - acc: 1.0000\n",
      "Epoch 33/100\n",
      "32/32 [==============================] - 0s 307us/step - loss: 0.0044 - acc: 1.0000\n",
      "Epoch 34/100\n",
      "32/32 [==============================] - 0s 327us/step - loss: 0.0043 - acc: 1.0000\n",
      "Epoch 35/100\n",
      "32/32 [==============================] - 0s 295us/step - loss: 0.0041 - acc: 1.0000\n",
      "Epoch 36/100\n",
      "32/32 [==============================] - 0s 304us/step - loss: 0.0039 - acc: 1.0000\n",
      "Epoch 37/100\n",
      "32/32 [==============================] - 0s 340us/step - loss: 0.0040 - acc: 1.0000\n",
      "Epoch 38/100\n",
      "32/32 [==============================] - 0s 297us/step - loss: 0.0036 - acc: 1.0000\n",
      "Epoch 39/100\n",
      "32/32 [==============================] - 0s 303us/step - loss: 0.0035 - acc: 1.0000\n",
      "Epoch 40/100\n",
      "32/32 [==============================] - 0s 348us/step - loss: 0.0034 - acc: 1.0000\n",
      "Epoch 41/100\n",
      "32/32 [==============================] - 0s 314us/step - loss: 0.0032 - acc: 1.0000\n",
      "Epoch 42/100\n",
      "32/32 [==============================] - 0s 405us/step - loss: 0.0032 - acc: 1.0000\n",
      "Epoch 43/100\n",
      "32/32 [==============================] - 0s 326us/step - loss: 0.0030 - acc: 1.0000\n",
      "Epoch 44/100\n",
      "32/32 [==============================] - 0s 344us/step - loss: 0.0029 - acc: 1.0000\n",
      "Epoch 45/100\n",
      "32/32 [==============================] - 0s 284us/step - loss: 0.0029 - acc: 1.0000\n",
      "Epoch 46/100\n",
      "32/32 [==============================] - 0s 328us/step - loss: 0.0027 - acc: 1.0000\n",
      "Epoch 47/100\n",
      "32/32 [==============================] - 0s 341us/step - loss: 0.0027 - acc: 1.0000\n",
      "Epoch 48/100\n",
      "32/32 [==============================] - 0s 274us/step - loss: 0.0025 - acc: 1.0000\n",
      "Epoch 49/100\n",
      "32/32 [==============================] - 0s 326us/step - loss: 0.0025 - acc: 1.0000\n",
      "Epoch 50/100\n",
      "32/32 [==============================] - 0s 357us/step - loss: 0.0024 - acc: 1.0000\n",
      "Epoch 51/100\n",
      "32/32 [==============================] - 0s 275us/step - loss: 0.0023 - acc: 1.0000\n",
      "Epoch 52/100\n",
      "32/32 [==============================] - 0s 351us/step - loss: 0.0022 - acc: 1.0000\n",
      "Epoch 53/100\n",
      "32/32 [==============================] - 0s 328us/step - loss: 0.0022 - acc: 1.0000\n",
      "Epoch 54/100\n",
      "32/32 [==============================] - 0s 270us/step - loss: 0.0020 - acc: 1.0000\n",
      "Epoch 55/100\n",
      "32/32 [==============================] - 0s 324us/step - loss: 0.0020 - acc: 1.0000\n",
      "Epoch 56/100\n",
      "32/32 [==============================] - 0s 308us/step - loss: 0.0019 - acc: 1.0000\n",
      "Epoch 57/100\n",
      "32/32 [==============================] - 0s 315us/step - loss: 0.0019 - acc: 1.0000\n",
      "Epoch 58/100\n",
      "32/32 [==============================] - 0s 288us/step - loss: 0.0018 - acc: 1.0000\n",
      "Epoch 59/100\n",
      "32/32 [==============================] - 0s 551us/step - loss: 0.0018 - acc: 1.0000\n",
      "Epoch 60/100\n",
      "32/32 [==============================] - 0s 363us/step - loss: 0.0017 - acc: 1.0000\n",
      "Epoch 61/100\n",
      "32/32 [==============================] - 0s 305us/step - loss: 0.0017 - acc: 1.0000\n",
      "Epoch 62/100\n",
      "32/32 [==============================] - 0s 341us/step - loss: 0.0017 - acc: 1.0000\n",
      "Epoch 63/100\n",
      "32/32 [==============================] - 0s 297us/step - loss: 0.0016 - acc: 1.0000\n",
      "Epoch 64/100\n",
      "32/32 [==============================] - 0s 285us/step - loss: 0.0015 - acc: 1.0000\n",
      "Epoch 65/100\n",
      "32/32 [==============================] - 0s 280us/step - loss: 0.0015 - acc: 1.0000\n",
      "Epoch 66/100\n",
      "32/32 [==============================] - 0s 287us/step - loss: 0.0015 - acc: 1.0000\n",
      "Epoch 67/100\n",
      "32/32 [==============================] - 0s 319us/step - loss: 0.0014 - acc: 1.0000\n",
      "Epoch 68/100\n",
      "32/32 [==============================] - 0s 301us/step - loss: 0.0014 - acc: 1.0000\n",
      "Epoch 69/100\n",
      "32/32 [==============================] - 0s 286us/step - loss: 0.0013 - acc: 1.0000\n",
      "Epoch 70/100\n",
      "32/32 [==============================] - 0s 311us/step - loss: 0.0013 - acc: 1.0000\n",
      "Epoch 71/100\n",
      "32/32 [==============================] - 0s 276us/step - loss: 0.0013 - acc: 1.0000\n",
      "Epoch 72/100\n",
      "32/32 [==============================] - 0s 327us/step - loss: 0.0012 - acc: 1.0000\n",
      "Epoch 73/100\n",
      "32/32 [==============================] - 0s 291us/step - loss: 0.0012 - acc: 1.0000\n",
      "Epoch 74/100\n",
      "32/32 [==============================] - 0s 284us/step - loss: 0.0011 - acc: 1.0000\n",
      "Epoch 75/100\n",
      "32/32 [==============================] - 0s 291us/step - loss: 0.0011 - acc: 1.0000\n",
      "Epoch 76/100\n",
      "32/32 [==============================] - 0s 268us/step - loss: 0.0011 - acc: 1.0000\n",
      "Epoch 77/100\n",
      "32/32 [==============================] - 0s 297us/step - loss: 0.0011 - acc: 1.0000\n",
      "Epoch 78/100\n",
      "32/32 [==============================] - 0s 293us/step - loss: 0.0010 - acc: 1.0000\n",
      "Epoch 79/100\n",
      "32/32 [==============================] - 0s 275us/step - loss: 0.0010 - acc: 1.0000\n",
      "Epoch 80/100\n",
      "32/32 [==============================] - 0s 286us/step - loss: 9.7330e-04 - acc: 1.0000\n",
      "Epoch 81/100\n",
      "32/32 [==============================] - 0s 264us/step - loss: 0.0010 - acc: 1.0000\n",
      "Epoch 82/100\n",
      "32/32 [==============================] - 0s 307us/step - loss: 9.6668e-04 - acc: 1.0000\n",
      "Epoch 83/100\n",
      "32/32 [==============================] - 0s 298us/step - loss: 0.0010 - acc: 1.0000\n",
      "Epoch 84/100\n",
      "32/32 [==============================] - 0s 302us/step - loss: 9.2709e-04 - acc: 1.0000\n",
      "Epoch 85/100\n",
      "32/32 [==============================] - 0s 277us/step - loss: 8.7680e-04 - acc: 1.0000\n",
      "Epoch 86/100\n",
      "32/32 [==============================] - 0s 288us/step - loss: 8.4261e-04 - acc: 1.0000\n",
      "Epoch 87/100\n",
      "32/32 [==============================] - 0s 317us/step - loss: 8.2155e-04 - acc: 1.0000\n",
      "Epoch 88/100\n",
      "32/32 [==============================] - 0s 301us/step - loss: 8.1604e-04 - acc: 1.0000\n",
      "Epoch 89/100\n",
      "32/32 [==============================] - 0s 262us/step - loss: 7.8566e-04 - acc: 1.0000\n",
      "Epoch 90/100\n",
      "32/32 [==============================] - 0s 317us/step - loss: 7.6505e-04 - acc: 1.0000\n",
      "Epoch 91/100\n",
      "32/32 [==============================] - 0s 267us/step - loss: 7.4557e-04 - acc: 1.0000\n",
      "Epoch 92/100\n",
      "32/32 [==============================] - 0s 308us/step - loss: 7.3034e-04 - acc: 1.0000\n",
      "Epoch 93/100\n",
      "32/32 [==============================] - 0s 303us/step - loss: 7.1612e-04 - acc: 1.0000\n",
      "Epoch 94/100\n",
      "32/32 [==============================] - 0s 275us/step - loss: 7.0284e-04 - acc: 1.0000\n",
      "Epoch 95/100\n",
      "32/32 [==============================] - 0s 312us/step - loss: 6.8842e-04 - acc: 1.0000\n",
      "Epoch 96/100\n",
      "32/32 [==============================] - 0s 277us/step - loss: 6.7355e-04 - acc: 1.0000\n",
      "Epoch 97/100\n",
      "32/32 [==============================] - 0s 271us/step - loss: 6.6258e-04 - acc: 1.0000\n",
      "Epoch 98/100\n",
      "32/32 [==============================] - 0s 310us/step - loss: 6.3057e-04 - acc: 1.0000\n",
      "Epoch 99/100\n",
      "32/32 [==============================] - 0s 247us/step - loss: 6.2883e-04 - acc: 1.0000\n",
      "Epoch 100/100\n",
      "32/32 [==============================] - 0s 329us/step - loss: 6.0857e-04 - acc: 1.0000\n"
     ]
    },
    {
     "data": {
      "text/plain": [
       "<keras.callbacks.History at 0x7fd3274e49e8>"
      ]
     },
     "execution_count": 134,
     "metadata": {},
     "output_type": "execute_result"
    }
   ],
   "source": [
    "network.fit(x_train, y_train, epochs=100, batch_size=5)"
   ]
  },
  {
   "cell_type": "code",
   "execution_count": 136,
   "metadata": {},
   "outputs": [],
   "source": [
    "network.save('dnn_model.h5')"
   ]
  },
  {
   "cell_type": "code",
   "execution_count": null,
   "metadata": {},
   "outputs": [],
   "source": []
  }
 ],
 "metadata": {
  "kernelspec": {
   "display_name": "Python 3",
   "language": "python",
   "name": "python3"
  },
  "language_info": {
   "codemirror_mode": {
    "name": "ipython",
    "version": 3
   },
   "file_extension": ".py",
   "mimetype": "text/x-python",
   "name": "python",
   "nbconvert_exporter": "python",
   "pygments_lexer": "ipython3",
   "version": "3.7.2"
  },
  "toc": {
   "base_numbering": 1,
   "nav_menu": {},
   "number_sections": true,
   "sideBar": true,
   "skip_h1_title": false,
   "title_cell": "Table of Contents",
   "title_sidebar": "Contents",
   "toc_cell": false,
   "toc_position": {},
   "toc_section_display": true,
   "toc_window_display": false
  }
 },
 "nbformat": 4,
 "nbformat_minor": 4
}
